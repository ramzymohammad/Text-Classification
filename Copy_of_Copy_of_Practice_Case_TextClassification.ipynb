{
  "nbformat": 4,
  "nbformat_minor": 5,
  "metadata": {
    "kernelspec": {
      "display_name": "Python 3",
      "language": "python",
      "name": "python3"
    },
    "language_info": {
      "codemirror_mode": {
        "name": "ipython",
        "version": 3
      },
      "file_extension": ".py",
      "mimetype": "text/x-python",
      "name": "python",
      "nbconvert_exporter": "python",
      "pygments_lexer": "ipython3",
      "version": "3.8.7"
    },
    "colab": {
      "name": "Copy of Copy of Practice-Case-TextClassification.ipynb",
      "provenance": [],
      "collapsed_sections": [
        "imposed-gregory"
      ]
    }
  },
  "cells": [
    {
      "cell_type": "markdown",
      "metadata": {
        "id": "nxzSEOKyd6eZ"
      },
      "source": [
        "# TEXT CLASSIFICATION"
      ],
      "id": "nxzSEOKyd6eZ"
    },
    {
      "cell_type": "markdown",
      "metadata": {
        "id": "Ciqxo96QbeYZ"
      },
      "source": [
        "# Data Survivor\n",
        "## Anggota:\n",
        "1. Alexander Patrick Surjono\n",
        "2. Ramzy Mohammad\n",
        "3. Retno Dewi Yulianti\n",
        "4. Stella Linda Cyrilla\n",
        "5. Wahyu Tri Utomo"
      ],
      "id": "Ciqxo96QbeYZ"
    },
    {
      "cell_type": "markdown",
      "metadata": {
        "id": "mof7ZvS0b-f7"
      },
      "source": [
        "Dataset Resource: https://drive.google.com/drive/folders/13YkQF8A1bD_xNrqBv2lGk7ziM3d24OLd"
      ],
      "id": "mof7ZvS0b-f7"
    },
    {
      "cell_type": "markdown",
      "metadata": {
        "id": "pHuzlhKncRvW"
      },
      "source": [
        "Dataset yang akan dipakai adalah<br>\n",
        "1.Bisnis<br>\n",
        "-. Row = 40 dan Column = 5<br>\n",
        "2.Sport<br>\n",
        "-. Row = 40 dan Column = 5<br>\n",
        "3.Life Style<br>\n",
        "-. Row = 40 dan Column = 5<br>\n",
        "\n",
        "Fitur:\n",
        "- Unnamed\n",
        "- id = nomer index pada dataset\n",
        "- url = link/url website berita\n",
        "- title = judul berita\n",
        "- content = isi dari berita\n"
      ],
      "id": "pHuzlhKncRvW"
    },
    {
      "cell_type": "markdown",
      "metadata": {
        "id": "mzS8wkRBeD-N"
      },
      "source": [
        "# Algoritma Pertama"
      ],
      "id": "mzS8wkRBeD-N"
    },
    {
      "cell_type": "markdown",
      "metadata": {
        "id": "oQEAdok0IvhA"
      },
      "source": [
        "# Install Package yang diperlukan"
      ],
      "id": "oQEAdok0IvhA"
    },
    {
      "cell_type": "code",
      "metadata": {
        "colab": {
          "base_uri": "https://localhost:8080/"
        },
        "id": "FudVHB3n5GHo",
        "outputId": "66e28e4b-655e-4f19-98e5-de874e997fc0"
      },
      "source": [
        "!pip install nltk\n",
        "!pip install Sastrawi"
      ],
      "id": "FudVHB3n5GHo",
      "execution_count": null,
      "outputs": [
        {
          "output_type": "stream",
          "text": [
            "Requirement already satisfied: nltk in /usr/local/lib/python3.7/dist-packages (3.2.5)\n",
            "Requirement already satisfied: six in /usr/local/lib/python3.7/dist-packages (from nltk) (1.15.0)\n",
            "Requirement already satisfied: Sastrawi in /usr/local/lib/python3.7/dist-packages (1.0.1)\n"
          ],
          "name": "stdout"
        }
      ]
    },
    {
      "cell_type": "markdown",
      "metadata": {
        "id": "Fkq2BkIfI6dI"
      },
      "source": [
        "# Import Package yang diperlukan"
      ],
      "id": "Fkq2BkIfI6dI"
    },
    {
      "cell_type": "code",
      "metadata": {
        "id": "j35MSrhS6Jsd",
        "colab": {
          "base_uri": "https://localhost:8080/"
        },
        "outputId": "ebecc504-8d8b-44b1-86a1-8595cd0f1469"
      },
      "source": [
        "import nltk\n",
        "nltk.download('stopwords')\n",
        "nltk.download('punkt')"
      ],
      "id": "j35MSrhS6Jsd",
      "execution_count": null,
      "outputs": [
        {
          "output_type": "stream",
          "text": [
            "[nltk_data] Downloading package stopwords to /root/nltk_data...\n",
            "[nltk_data]   Package stopwords is already up-to-date!\n",
            "[nltk_data] Downloading package punkt to /root/nltk_data...\n",
            "[nltk_data]   Package punkt is already up-to-date!\n"
          ],
          "name": "stdout"
        },
        {
          "output_type": "execute_result",
          "data": {
            "text/plain": [
              "True"
            ]
          },
          "metadata": {
            "tags": []
          },
          "execution_count": 67
        }
      ]
    },
    {
      "cell_type": "code",
      "metadata": {
        "id": "color-astronomy"
      },
      "source": [
        "#import data and preprocessing\n",
        "import pandas as pd\n",
        "import re\n",
        "import string\n",
        "from string import punctuation\n",
        "from nltk.corpus import stopwords\n",
        "stop_words = stopwords.words('indonesian')   #stopwords bisa ditambah dengan append\n",
        "\n",
        "#feature extraction\n",
        "from sklearn.feature_extraction.text import CountVectorizer\n",
        "from sklearn.feature_extraction.text import TfidfVectorizer\n",
        "from Sastrawi.Stemmer.StemmerFactory import StemmerFactory\n",
        "factory = StemmerFactory()\n",
        "stemmer = factory.create_stemmer()\n",
        "\n",
        "#nodelling\n",
        "from sklearn.model_selection import train_test_split\n",
        "from sklearn import svm, naive_bayes\n",
        "from sklearn.linear_model import LogisticRegression\n",
        "\n",
        "#evaluation metrics\n",
        "from sklearn.metrics import accuracy_score, classification_report, confusion_matrix"
      ],
      "id": "color-astronomy",
      "execution_count": null,
      "outputs": []
    },
    {
      "cell_type": "markdown",
      "metadata": {
        "id": "yqKSyYtHJGDw"
      },
      "source": [
        "# Load Dataset yang akan digunakan"
      ],
      "id": "yqKSyYtHJGDw"
    },
    {
      "cell_type": "code",
      "metadata": {
        "id": "advisory-heaven"
      },
      "source": [
        "url_sport=\"https://drive.google.com/file/d/1pcnPVr_lWiKXASy9tSbyM7hQyDI2ysec/view?usp=sharing\"\n",
        "url_bisnis=\"https://drive.google.com/file/d/1Q6M0IjUwsr-BY9u21wDlN8VHQCLaobSL/view?usp=sharing\"\n",
        "url_lifestyle=\"https://drive.google.com/file/d/1SIMxnQGat_P0qRbyFBkgkEFsPEX3hThO/view?usp=sharing\"\n",
        "\n",
        "sport_path = 'https://drive.google.com/uc?export=download&id='+url_sport.split('/')[-2]\n",
        "bisnis_path = 'https://drive.google.com/uc?export=download&id='+url_bisnis.split('/')[-2]\n",
        "lifestyle_path = 'https://drive.google.com/uc?export=download&id='+url_lifestyle.split('/')[-2]\n",
        "\n",
        "sport = pd.read_csv(sport_path)\n",
        "bisnis = pd.read_csv(bisnis_path)\n",
        "life_style = pd.read_csv(lifestyle_path)"
      ],
      "id": "advisory-heaven",
      "execution_count": null,
      "outputs": []
    },
    {
      "cell_type": "code",
      "metadata": {
        "colab": {
          "base_uri": "https://localhost:8080/",
          "height": 81
        },
        "id": "aw6HGv-C8C58",
        "outputId": "3e280ac1-75b8-411f-8e1a-a7a14a36c2ae"
      },
      "source": [
        "sport.head(1)"
      ],
      "id": "aw6HGv-C8C58",
      "execution_count": null,
      "outputs": [
        {
          "output_type": "execute_result",
          "data": {
            "text/html": [
              "<div>\n",
              "<style scoped>\n",
              "    .dataframe tbody tr th:only-of-type {\n",
              "        vertical-align: middle;\n",
              "    }\n",
              "\n",
              "    .dataframe tbody tr th {\n",
              "        vertical-align: top;\n",
              "    }\n",
              "\n",
              "    .dataframe thead th {\n",
              "        text-align: right;\n",
              "    }\n",
              "</style>\n",
              "<table border=\"1\" class=\"dataframe\">\n",
              "  <thead>\n",
              "    <tr style=\"text-align: right;\">\n",
              "      <th></th>\n",
              "      <th>Unnamed: 0</th>\n",
              "      <th>id</th>\n",
              "      <th>url</th>\n",
              "      <th>title</th>\n",
              "      <th>content</th>\n",
              "    </tr>\n",
              "  </thead>\n",
              "  <tbody>\n",
              "    <tr>\n",
              "      <th>0</th>\n",
              "      <td>0</td>\n",
              "      <td>0</td>\n",
              "      <td>https://www.tribunnews.com/sport/2020/10/06/za...</td>\n",
              "      <td>\\n\\t\\t\\t\\t\\t\\tZainudin Amali Beberkan Alasan B...</td>\n",
              "      <td>b'Laporan Wartawan Tribunnews.com, Abdul Majid...</td>\n",
              "    </tr>\n",
              "  </tbody>\n",
              "</table>\n",
              "</div>"
            ],
            "text/plain": [
              "   Unnamed: 0  ...                                            content\n",
              "0           0  ...  b'Laporan Wartawan Tribunnews.com, Abdul Majid...\n",
              "\n",
              "[1 rows x 5 columns]"
            ]
          },
          "metadata": {
            "tags": []
          },
          "execution_count": 70
        }
      ]
    },
    {
      "cell_type": "code",
      "metadata": {
        "id": "tribal-material"
      },
      "source": [
        "sport = sport[['content']]\n",
        "bisnis = bisnis[['content']]\n",
        "life_style = life_style[['content']]"
      ],
      "id": "tribal-material",
      "execution_count": null,
      "outputs": []
    },
    {
      "cell_type": "code",
      "metadata": {
        "id": "sustained-madagascar"
      },
      "source": [
        "sport['label'] = 'sport'\n",
        "bisnis['label'] = 'bisnis'\n",
        "life_style['label'] = 'lifestyle'"
      ],
      "id": "sustained-madagascar",
      "execution_count": null,
      "outputs": []
    },
    {
      "cell_type": "code",
      "metadata": {
        "colab": {
          "base_uri": "https://localhost:8080/",
          "height": 81
        },
        "id": "hlf4q9LE8W5u",
        "outputId": "2475597e-46fe-467f-d8e0-b27fe2a5bbc4"
      },
      "source": [
        "sport.head(1)"
      ],
      "id": "hlf4q9LE8W5u",
      "execution_count": null,
      "outputs": [
        {
          "output_type": "execute_result",
          "data": {
            "text/html": [
              "<div>\n",
              "<style scoped>\n",
              "    .dataframe tbody tr th:only-of-type {\n",
              "        vertical-align: middle;\n",
              "    }\n",
              "\n",
              "    .dataframe tbody tr th {\n",
              "        vertical-align: top;\n",
              "    }\n",
              "\n",
              "    .dataframe thead th {\n",
              "        text-align: right;\n",
              "    }\n",
              "</style>\n",
              "<table border=\"1\" class=\"dataframe\">\n",
              "  <thead>\n",
              "    <tr style=\"text-align: right;\">\n",
              "      <th></th>\n",
              "      <th>content</th>\n",
              "      <th>label</th>\n",
              "    </tr>\n",
              "  </thead>\n",
              "  <tbody>\n",
              "    <tr>\n",
              "      <th>0</th>\n",
              "      <td>b'Laporan Wartawan Tribunnews.com, Abdul Majid...</td>\n",
              "      <td>sport</td>\n",
              "    </tr>\n",
              "  </tbody>\n",
              "</table>\n",
              "</div>"
            ],
            "text/plain": [
              "                                             content  label\n",
              "0  b'Laporan Wartawan Tribunnews.com, Abdul Majid...  sport"
            ]
          },
          "metadata": {
            "tags": []
          },
          "execution_count": 73
        }
      ]
    },
    {
      "cell_type": "code",
      "metadata": {
        "id": "noted-nepal"
      },
      "source": [
        "df = sport.append(bisnis)"
      ],
      "id": "noted-nepal",
      "execution_count": null,
      "outputs": []
    },
    {
      "cell_type": "code",
      "metadata": {
        "colab": {
          "base_uri": "https://localhost:8080/",
          "height": 423
        },
        "id": "qXX3vNc28hCz",
        "outputId": "40cb92d5-ea36-4958-9bc0-e6dae76ca58c"
      },
      "source": [
        "df"
      ],
      "id": "qXX3vNc28hCz",
      "execution_count": null,
      "outputs": [
        {
          "output_type": "execute_result",
          "data": {
            "text/html": [
              "<div>\n",
              "<style scoped>\n",
              "    .dataframe tbody tr th:only-of-type {\n",
              "        vertical-align: middle;\n",
              "    }\n",
              "\n",
              "    .dataframe tbody tr th {\n",
              "        vertical-align: top;\n",
              "    }\n",
              "\n",
              "    .dataframe thead th {\n",
              "        text-align: right;\n",
              "    }\n",
              "</style>\n",
              "<table border=\"1\" class=\"dataframe\">\n",
              "  <thead>\n",
              "    <tr style=\"text-align: right;\">\n",
              "      <th></th>\n",
              "      <th>content</th>\n",
              "      <th>label</th>\n",
              "    </tr>\n",
              "  </thead>\n",
              "  <tbody>\n",
              "    <tr>\n",
              "      <th>0</th>\n",
              "      <td>b'Laporan Wartawan Tribunnews.com, Abdul Majid...</td>\n",
              "      <td>sport</td>\n",
              "    </tr>\n",
              "    <tr>\n",
              "      <th>1</th>\n",
              "      <td>b'TRIBUNNEWS.COM - Jadwal siaran langsung Moto...</td>\n",
              "      <td>sport</td>\n",
              "    </tr>\n",
              "    <tr>\n",
              "      <th>2</th>\n",
              "      <td>b'TRIBUNNEWS.COM - Live streaming Trans7 MotoG...</td>\n",
              "      <td>sport</td>\n",
              "    </tr>\n",
              "    <tr>\n",
              "      <th>3</th>\n",
              "      <td>b'TRIBUNNEWS.COM - Muhammad Ali secara mengeju...</td>\n",
              "      <td>sport</td>\n",
              "    </tr>\n",
              "    <tr>\n",
              "      <th>4</th>\n",
              "      <td>b'TRIBUNNEWS.COM - Live streaming Trans7 MotoG...</td>\n",
              "      <td>sport</td>\n",
              "    </tr>\n",
              "    <tr>\n",
              "      <th>...</th>\n",
              "      <td>...</td>\n",
              "      <td>...</td>\n",
              "    </tr>\n",
              "    <tr>\n",
              "      <th>35</th>\n",
              "      <td>b'Laporan Wartawan Tribunnews.com, Reynas Abdi...</td>\n",
              "      <td>bisnis</td>\n",
              "    </tr>\n",
              "    <tr>\n",
              "      <th>36</th>\n",
              "      <td>b'TRIBUNNEWS.COM, JAKARTA - PT Internusa Keram...</td>\n",
              "      <td>bisnis</td>\n",
              "    </tr>\n",
              "    <tr>\n",
              "      <th>37</th>\n",
              "      <td>b'\\xc2\\xa0 TRIBUNNEWS.COM, JAKARTA - Sidang Pa...</td>\n",
              "      <td>bisnis</td>\n",
              "    </tr>\n",
              "    <tr>\n",
              "      <th>38</th>\n",
              "      <td>b'Laporan Wartawan Tribunnews.com, Yanuar Riez...</td>\n",
              "      <td>bisnis</td>\n",
              "    </tr>\n",
              "    <tr>\n",
              "      <th>39</th>\n",
              "      <td>b'TRIBUNNEWS.COM - Token listrik gratis diberi...</td>\n",
              "      <td>bisnis</td>\n",
              "    </tr>\n",
              "  </tbody>\n",
              "</table>\n",
              "<p>80 rows × 2 columns</p>\n",
              "</div>"
            ],
            "text/plain": [
              "                                              content   label\n",
              "0   b'Laporan Wartawan Tribunnews.com, Abdul Majid...   sport\n",
              "1   b'TRIBUNNEWS.COM - Jadwal siaran langsung Moto...   sport\n",
              "2   b'TRIBUNNEWS.COM - Live streaming Trans7 MotoG...   sport\n",
              "3   b'TRIBUNNEWS.COM - Muhammad Ali secara mengeju...   sport\n",
              "4   b'TRIBUNNEWS.COM - Live streaming Trans7 MotoG...   sport\n",
              "..                                                ...     ...\n",
              "35  b'Laporan Wartawan Tribunnews.com, Reynas Abdi...  bisnis\n",
              "36  b'TRIBUNNEWS.COM, JAKARTA - PT Internusa Keram...  bisnis\n",
              "37  b'\\xc2\\xa0 TRIBUNNEWS.COM, JAKARTA - Sidang Pa...  bisnis\n",
              "38  b'Laporan Wartawan Tribunnews.com, Yanuar Riez...  bisnis\n",
              "39  b'TRIBUNNEWS.COM - Token listrik gratis diberi...  bisnis\n",
              "\n",
              "[80 rows x 2 columns]"
            ]
          },
          "metadata": {
            "tags": []
          },
          "execution_count": 75
        }
      ]
    },
    {
      "cell_type": "code",
      "metadata": {
        "id": "sacred-assembly"
      },
      "source": [
        "df1 = df.append(life_style)"
      ],
      "id": "sacred-assembly",
      "execution_count": null,
      "outputs": []
    },
    {
      "cell_type": "code",
      "metadata": {
        "id": "printable-wallet",
        "colab": {
          "base_uri": "https://localhost:8080/",
          "height": 423
        },
        "outputId": "4247d847-b08a-43ba-e902-9eeeb678626c"
      },
      "source": [
        "df1"
      ],
      "id": "printable-wallet",
      "execution_count": null,
      "outputs": [
        {
          "output_type": "execute_result",
          "data": {
            "text/html": [
              "<div>\n",
              "<style scoped>\n",
              "    .dataframe tbody tr th:only-of-type {\n",
              "        vertical-align: middle;\n",
              "    }\n",
              "\n",
              "    .dataframe tbody tr th {\n",
              "        vertical-align: top;\n",
              "    }\n",
              "\n",
              "    .dataframe thead th {\n",
              "        text-align: right;\n",
              "    }\n",
              "</style>\n",
              "<table border=\"1\" class=\"dataframe\">\n",
              "  <thead>\n",
              "    <tr style=\"text-align: right;\">\n",
              "      <th></th>\n",
              "      <th>content</th>\n",
              "      <th>label</th>\n",
              "    </tr>\n",
              "  </thead>\n",
              "  <tbody>\n",
              "    <tr>\n",
              "      <th>0</th>\n",
              "      <td>b'Laporan Wartawan Tribunnews.com, Abdul Majid...</td>\n",
              "      <td>sport</td>\n",
              "    </tr>\n",
              "    <tr>\n",
              "      <th>1</th>\n",
              "      <td>b'TRIBUNNEWS.COM - Jadwal siaran langsung Moto...</td>\n",
              "      <td>sport</td>\n",
              "    </tr>\n",
              "    <tr>\n",
              "      <th>2</th>\n",
              "      <td>b'TRIBUNNEWS.COM - Live streaming Trans7 MotoG...</td>\n",
              "      <td>sport</td>\n",
              "    </tr>\n",
              "    <tr>\n",
              "      <th>3</th>\n",
              "      <td>b'TRIBUNNEWS.COM - Muhammad Ali secara mengeju...</td>\n",
              "      <td>sport</td>\n",
              "    </tr>\n",
              "    <tr>\n",
              "      <th>4</th>\n",
              "      <td>b'TRIBUNNEWS.COM - Live streaming Trans7 MotoG...</td>\n",
              "      <td>sport</td>\n",
              "    </tr>\n",
              "    <tr>\n",
              "      <th>...</th>\n",
              "      <td>...</td>\n",
              "      <td>...</td>\n",
              "    </tr>\n",
              "    <tr>\n",
              "      <th>35</th>\n",
              "      <td>b'TRIBUNNEWS.COM -\\xc2\\xa0Kombinasi es buah de...</td>\n",
              "      <td>lifestyle</td>\n",
              "    </tr>\n",
              "    <tr>\n",
              "      <th>36</th>\n",
              "      <td>b'TRIBUNNEWS.COM - Kulit tangan kusam dan biki...</td>\n",
              "      <td>lifestyle</td>\n",
              "    </tr>\n",
              "    <tr>\n",
              "      <th>37</th>\n",
              "      <td>b'TRIBUNNEWS.COM -\\xc2\\xa0Pasti semua setuju j...</td>\n",
              "      <td>lifestyle</td>\n",
              "    </tr>\n",
              "    <tr>\n",
              "      <th>38</th>\n",
              "      <td>b'TRIBUNNEWS.COM - Berikut 30 arti mimpi yang ...</td>\n",
              "      <td>lifestyle</td>\n",
              "    </tr>\n",
              "    <tr>\n",
              "      <th>39</th>\n",
              "      <td>b'TRIBUNNEWS.COM -\\xc2\\xa0Siapa yang suka deng...</td>\n",
              "      <td>lifestyle</td>\n",
              "    </tr>\n",
              "  </tbody>\n",
              "</table>\n",
              "<p>120 rows × 2 columns</p>\n",
              "</div>"
            ],
            "text/plain": [
              "                                              content      label\n",
              "0   b'Laporan Wartawan Tribunnews.com, Abdul Majid...      sport\n",
              "1   b'TRIBUNNEWS.COM - Jadwal siaran langsung Moto...      sport\n",
              "2   b'TRIBUNNEWS.COM - Live streaming Trans7 MotoG...      sport\n",
              "3   b'TRIBUNNEWS.COM - Muhammad Ali secara mengeju...      sport\n",
              "4   b'TRIBUNNEWS.COM - Live streaming Trans7 MotoG...      sport\n",
              "..                                                ...        ...\n",
              "35  b'TRIBUNNEWS.COM -\\xc2\\xa0Kombinasi es buah de...  lifestyle\n",
              "36  b'TRIBUNNEWS.COM - Kulit tangan kusam dan biki...  lifestyle\n",
              "37  b'TRIBUNNEWS.COM -\\xc2\\xa0Pasti semua setuju j...  lifestyle\n",
              "38  b'TRIBUNNEWS.COM - Berikut 30 arti mimpi yang ...  lifestyle\n",
              "39  b'TRIBUNNEWS.COM -\\xc2\\xa0Siapa yang suka deng...  lifestyle\n",
              "\n",
              "[120 rows x 2 columns]"
            ]
          },
          "metadata": {
            "tags": []
          },
          "execution_count": 77
        }
      ]
    },
    {
      "cell_type": "code",
      "metadata": {
        "id": "fkcYg-XfJbAP"
      },
      "source": [
        "df1.reset_index(inplace=True)\n",
        "df1 = df1[['content', 'label']]"
      ],
      "id": "fkcYg-XfJbAP",
      "execution_count": null,
      "outputs": []
    },
    {
      "cell_type": "code",
      "metadata": {
        "colab": {
          "base_uri": "https://localhost:8080/",
          "height": 423
        },
        "id": "0jy8AW0VJc03",
        "outputId": "4bbd58ff-fea4-47f1-f8b3-c442bd476a5c"
      },
      "source": [
        "df1"
      ],
      "id": "0jy8AW0VJc03",
      "execution_count": null,
      "outputs": [
        {
          "output_type": "execute_result",
          "data": {
            "text/html": [
              "<div>\n",
              "<style scoped>\n",
              "    .dataframe tbody tr th:only-of-type {\n",
              "        vertical-align: middle;\n",
              "    }\n",
              "\n",
              "    .dataframe tbody tr th {\n",
              "        vertical-align: top;\n",
              "    }\n",
              "\n",
              "    .dataframe thead th {\n",
              "        text-align: right;\n",
              "    }\n",
              "</style>\n",
              "<table border=\"1\" class=\"dataframe\">\n",
              "  <thead>\n",
              "    <tr style=\"text-align: right;\">\n",
              "      <th></th>\n",
              "      <th>content</th>\n",
              "      <th>label</th>\n",
              "    </tr>\n",
              "  </thead>\n",
              "  <tbody>\n",
              "    <tr>\n",
              "      <th>0</th>\n",
              "      <td>b'Laporan Wartawan Tribunnews.com, Abdul Majid...</td>\n",
              "      <td>sport</td>\n",
              "    </tr>\n",
              "    <tr>\n",
              "      <th>1</th>\n",
              "      <td>b'TRIBUNNEWS.COM - Jadwal siaran langsung Moto...</td>\n",
              "      <td>sport</td>\n",
              "    </tr>\n",
              "    <tr>\n",
              "      <th>2</th>\n",
              "      <td>b'TRIBUNNEWS.COM - Live streaming Trans7 MotoG...</td>\n",
              "      <td>sport</td>\n",
              "    </tr>\n",
              "    <tr>\n",
              "      <th>3</th>\n",
              "      <td>b'TRIBUNNEWS.COM - Muhammad Ali secara mengeju...</td>\n",
              "      <td>sport</td>\n",
              "    </tr>\n",
              "    <tr>\n",
              "      <th>4</th>\n",
              "      <td>b'TRIBUNNEWS.COM - Live streaming Trans7 MotoG...</td>\n",
              "      <td>sport</td>\n",
              "    </tr>\n",
              "    <tr>\n",
              "      <th>...</th>\n",
              "      <td>...</td>\n",
              "      <td>...</td>\n",
              "    </tr>\n",
              "    <tr>\n",
              "      <th>115</th>\n",
              "      <td>b'TRIBUNNEWS.COM -\\xc2\\xa0Kombinasi es buah de...</td>\n",
              "      <td>lifestyle</td>\n",
              "    </tr>\n",
              "    <tr>\n",
              "      <th>116</th>\n",
              "      <td>b'TRIBUNNEWS.COM - Kulit tangan kusam dan biki...</td>\n",
              "      <td>lifestyle</td>\n",
              "    </tr>\n",
              "    <tr>\n",
              "      <th>117</th>\n",
              "      <td>b'TRIBUNNEWS.COM -\\xc2\\xa0Pasti semua setuju j...</td>\n",
              "      <td>lifestyle</td>\n",
              "    </tr>\n",
              "    <tr>\n",
              "      <th>118</th>\n",
              "      <td>b'TRIBUNNEWS.COM - Berikut 30 arti mimpi yang ...</td>\n",
              "      <td>lifestyle</td>\n",
              "    </tr>\n",
              "    <tr>\n",
              "      <th>119</th>\n",
              "      <td>b'TRIBUNNEWS.COM -\\xc2\\xa0Siapa yang suka deng...</td>\n",
              "      <td>lifestyle</td>\n",
              "    </tr>\n",
              "  </tbody>\n",
              "</table>\n",
              "<p>120 rows × 2 columns</p>\n",
              "</div>"
            ],
            "text/plain": [
              "                                               content      label\n",
              "0    b'Laporan Wartawan Tribunnews.com, Abdul Majid...      sport\n",
              "1    b'TRIBUNNEWS.COM - Jadwal siaran langsung Moto...      sport\n",
              "2    b'TRIBUNNEWS.COM - Live streaming Trans7 MotoG...      sport\n",
              "3    b'TRIBUNNEWS.COM - Muhammad Ali secara mengeju...      sport\n",
              "4    b'TRIBUNNEWS.COM - Live streaming Trans7 MotoG...      sport\n",
              "..                                                 ...        ...\n",
              "115  b'TRIBUNNEWS.COM -\\xc2\\xa0Kombinasi es buah de...  lifestyle\n",
              "116  b'TRIBUNNEWS.COM - Kulit tangan kusam dan biki...  lifestyle\n",
              "117  b'TRIBUNNEWS.COM -\\xc2\\xa0Pasti semua setuju j...  lifestyle\n",
              "118  b'TRIBUNNEWS.COM - Berikut 30 arti mimpi yang ...  lifestyle\n",
              "119  b'TRIBUNNEWS.COM -\\xc2\\xa0Siapa yang suka deng...  lifestyle\n",
              "\n",
              "[120 rows x 2 columns]"
            ]
          },
          "metadata": {
            "tags": []
          },
          "execution_count": 79
        }
      ]
    },
    {
      "cell_type": "markdown",
      "metadata": {
        "id": "TAyLOQU7Jjuz"
      },
      "source": [
        "# Cek Imbalance Data"
      ],
      "id": "TAyLOQU7Jjuz"
    },
    {
      "cell_type": "code",
      "metadata": {
        "id": "thermal-teddy",
        "colab": {
          "base_uri": "https://localhost:8080/"
        },
        "outputId": "c90781d7-fced-4321-f818-4be7585c47a1"
      },
      "source": [
        "df1.label.value_counts()"
      ],
      "id": "thermal-teddy",
      "execution_count": null,
      "outputs": [
        {
          "output_type": "execute_result",
          "data": {
            "text/plain": [
              "lifestyle    40\n",
              "bisnis       40\n",
              "sport        40\n",
              "Name: label, dtype: int64"
            ]
          },
          "metadata": {
            "tags": []
          },
          "execution_count": 80
        }
      ]
    },
    {
      "cell_type": "markdown",
      "metadata": {
        "id": "unusual-anime"
      },
      "source": [
        "Karena sample dari setiap label memiliki jumlah yang sama banyak maka Resampling tidak diperlukan"
      ],
      "id": "unusual-anime"
    },
    {
      "cell_type": "markdown",
      "metadata": {
        "id": "hairy-packet"
      },
      "source": [
        "# Text Preprocessing"
      ],
      "id": "hairy-packet"
    },
    {
      "cell_type": "code",
      "metadata": {
        "id": "catholic-representative"
      },
      "source": [
        "from nltk.tokenize import word_tokenize"
      ],
      "id": "catholic-representative",
      "execution_count": null,
      "outputs": []
    },
    {
      "cell_type": "code",
      "metadata": {
        "id": "casual-finish"
      },
      "source": [
        "#preprocessing function\n",
        "stop_words.append('b\\'TRIBUNNEWS.COM')\n",
        "stop_words.append('btribunnewscom')\n",
        "stop_words.append('tribunnewscom')\n",
        "def preprocessing(sentence):\n",
        "    \n",
        "    #lowecasing\n",
        "    sentence = sentence.lower()\n",
        "    \n",
        "    #remove white spaces\n",
        "    sentence = sentence.strip()\n",
        "    \n",
        "    #tokenization\n",
        "    words = word_tokenize(sentence)\n",
        "    \n",
        "    #remove punctuation/ special character\n",
        "    remove_table = str.maketrans(\"\", \"\", punctuation)\n",
        "    words = [x.translate(remove_table) for x in words]\n",
        "    \n",
        "    #remove nonalphanumeric <=3 chars\n",
        "    words = [x for x in words if x.isalnum() and len(x) > 3]\n",
        "    \n",
        "    ######\n",
        "    cek = []\n",
        "    for i in words:\n",
        "        if i[0] != 'x':  #xcaku\n",
        "            cek.append(i)\n",
        "    \n",
        "    ####\n",
        "#     for k in cek:\n",
        "    char_list = ['xc2xa0', 'blaporan'] # xc2xa0adalah\n",
        "    res = [ele for ele in cek if all(ch not in ele for ch in char_list)]\n",
        "\n",
        "    \n",
        "    #remove stopwords\n",
        "    words = [x for x in res if x not in stop_words]\n",
        "    #rejoining the words\n",
        "    sentence = \" \".join(words)\n",
        "    \n",
        "    return sentence"
      ],
      "id": "casual-finish",
      "execution_count": null,
      "outputs": []
    },
    {
      "cell_type": "code",
      "metadata": {
        "id": "swiss-trace"
      },
      "source": [
        ""
      ],
      "id": "swiss-trace",
      "execution_count": null,
      "outputs": []
    },
    {
      "cell_type": "code",
      "metadata": {
        "id": "ycDpu13g_u27"
      },
      "source": [
        ""
      ],
      "id": "ycDpu13g_u27",
      "execution_count": null,
      "outputs": []
    },
    {
      "cell_type": "code",
      "metadata": {
        "id": "oriental-strand",
        "colab": {
          "base_uri": "https://localhost:8080/"
        },
        "outputId": "61fb1ba9-672a-4c34-a50c-43216fddc538"
      },
      "source": [
        "df1['content'] = [preprocessing(stc) for stc in df1['content']]"
      ],
      "id": "oriental-strand",
      "execution_count": null,
      "outputs": [
        {
          "output_type": "stream",
          "text": [
            "/usr/local/lib/python3.7/dist-packages/ipykernel_launcher.py:1: SettingWithCopyWarning: \n",
            "A value is trying to be set on a copy of a slice from a DataFrame.\n",
            "Try using .loc[row_indexer,col_indexer] = value instead\n",
            "\n",
            "See the caveats in the documentation: https://pandas.pydata.org/pandas-docs/stable/user_guide/indexing.html#returning-a-view-versus-a-copy\n",
            "  \"\"\"Entry point for launching an IPython kernel.\n"
          ],
          "name": "stderr"
        }
      ]
    },
    {
      "cell_type": "code",
      "metadata": {
        "id": "weekly-career",
        "colab": {
          "base_uri": "https://localhost:8080/",
          "height": 423
        },
        "outputId": "035f2b26-eaf4-4a93-a9b5-5f7b82815f85"
      },
      "source": [
        "df1"
      ],
      "id": "weekly-career",
      "execution_count": null,
      "outputs": [
        {
          "output_type": "execute_result",
          "data": {
            "text/html": [
              "<div>\n",
              "<style scoped>\n",
              "    .dataframe tbody tr th:only-of-type {\n",
              "        vertical-align: middle;\n",
              "    }\n",
              "\n",
              "    .dataframe tbody tr th {\n",
              "        vertical-align: top;\n",
              "    }\n",
              "\n",
              "    .dataframe thead th {\n",
              "        text-align: right;\n",
              "    }\n",
              "</style>\n",
              "<table border=\"1\" class=\"dataframe\">\n",
              "  <thead>\n",
              "    <tr style=\"text-align: right;\">\n",
              "      <th></th>\n",
              "      <th>content</th>\n",
              "      <th>label</th>\n",
              "    </tr>\n",
              "  </thead>\n",
              "  <tbody>\n",
              "    <tr>\n",
              "      <th>0</th>\n",
              "      <td>wartawan abdul majid jakarta menteri pemuda ol...</td>\n",
              "      <td>sport</td>\n",
              "    </tr>\n",
              "    <tr>\n",
              "      <th>1</th>\n",
              "      <td>jadwal siaran langsung motogp prancis 2020 sir...</td>\n",
              "      <td>sport</td>\n",
              "    </tr>\n",
              "    <tr>\n",
              "      <th>2</th>\n",
              "      <td>live streaming trans7 motogp prancis 2020 sirk...</td>\n",
              "      <td>sport</td>\n",
              "    </tr>\n",
              "    <tr>\n",
              "      <th>3</th>\n",
              "      <td>muhammad mengejutkan tertinggi daftar petinju ...</td>\n",
              "      <td>sport</td>\n",
              "    </tr>\n",
              "    <tr>\n",
              "      <th>4</th>\n",
              "      <td>live streaming trans7 motogp jelang prancis 20...</td>\n",
              "      <td>sport</td>\n",
              "    </tr>\n",
              "    <tr>\n",
              "      <th>...</th>\n",
              "      <td>...</td>\n",
              "      <td>...</td>\n",
              "    </tr>\n",
              "    <tr>\n",
              "      <th>115</th>\n",
              "      <td>buah kelapa bikin ketagihan beli coba rumah bu...</td>\n",
              "      <td>lifestyle</td>\n",
              "    </tr>\n",
              "    <tr>\n",
              "      <th>116</th>\n",
              "      <td>kulit tangan kusam bikin percaya khawatir coba...</td>\n",
              "      <td>lifestyle</td>\n",
              "    </tr>\n",
              "    <tr>\n",
              "      <th>117</th>\n",
              "      <td>setuju bayam salah sayuran favorit keluarga ba...</td>\n",
              "      <td>lifestyle</td>\n",
              "    </tr>\n",
              "    <tr>\n",
              "      <th>118</th>\n",
              "      <td>arti mimpi berhubungan gaib orang merasakan mi...</td>\n",
              "      <td>lifestyle</td>\n",
              "    </tr>\n",
              "    <tr>\n",
              "      <th>119</th>\n",
              "      <td>suka bakwan setuju bakwan camilan favorit kelu...</td>\n",
              "      <td>lifestyle</td>\n",
              "    </tr>\n",
              "  </tbody>\n",
              "</table>\n",
              "<p>120 rows × 2 columns</p>\n",
              "</div>"
            ],
            "text/plain": [
              "                                               content      label\n",
              "0    wartawan abdul majid jakarta menteri pemuda ol...      sport\n",
              "1    jadwal siaran langsung motogp prancis 2020 sir...      sport\n",
              "2    live streaming trans7 motogp prancis 2020 sirk...      sport\n",
              "3    muhammad mengejutkan tertinggi daftar petinju ...      sport\n",
              "4    live streaming trans7 motogp jelang prancis 20...      sport\n",
              "..                                                 ...        ...\n",
              "115  buah kelapa bikin ketagihan beli coba rumah bu...  lifestyle\n",
              "116  kulit tangan kusam bikin percaya khawatir coba...  lifestyle\n",
              "117  setuju bayam salah sayuran favorit keluarga ba...  lifestyle\n",
              "118  arti mimpi berhubungan gaib orang merasakan mi...  lifestyle\n",
              "119  suka bakwan setuju bakwan camilan favorit kelu...  lifestyle\n",
              "\n",
              "[120 rows x 2 columns]"
            ]
          },
          "metadata": {
            "tags": []
          },
          "execution_count": 84
        }
      ]
    },
    {
      "cell_type": "markdown",
      "metadata": {
        "id": "current-convenience"
      },
      "source": [
        "# Dataset Splitting"
      ],
      "id": "current-convenience"
    },
    {
      "cell_type": "code",
      "metadata": {
        "id": "fitted-austin",
        "colab": {
          "base_uri": "https://localhost:8080/"
        },
        "outputId": "ab5258fa-1266-4f58-ca6d-d00653d9c261"
      },
      "source": [
        "X = df1.content\n",
        "y = df1.label\n",
        "\n",
        "X_train, X_test, y_train, y_test = train_test_split(X, y, test_size=0.2, stratify=y, random_state=42)\n",
        "X_train.shape, X_test.shape, y_train.shape, y_test.shape"
      ],
      "id": "fitted-austin",
      "execution_count": null,
      "outputs": [
        {
          "output_type": "execute_result",
          "data": {
            "text/plain": [
              "((96,), (24,), (96,), (24,))"
            ]
          },
          "metadata": {
            "tags": []
          },
          "execution_count": 85
        }
      ]
    },
    {
      "cell_type": "code",
      "metadata": {
        "colab": {
          "base_uri": "https://localhost:8080/"
        },
        "id": "zLf1WzqUEPF1",
        "outputId": "5fc7e435-6c42-485f-f8c2-bd182248a6d1"
      },
      "source": [
        "X_train"
      ],
      "id": "zLf1WzqUEPF1",
      "execution_count": null,
      "outputs": [
        {
          "output_type": "execute_result",
          "data": {
            "text/plain": [
              "48     wartawan tribunnews choirul arifin jakarta peg...\n",
              "46     pasokan listrik kehidupan kegiatan lakukan mem...\n",
              "21     keuntungan menunggu valentino rossi merapat sa...\n",
              "38     ajang balapan motogp 2020 digelar pekan minggu...\n",
              "35     ajang balapan motogp 2020 digelar pekan minggu...\n",
              "                             ...                        \n",
              "112    takut kelebihan baking soda dapur membeli baki...\n",
              "26     presiden dana white mengaku hasrat menggelar d...\n",
              "99     btribunamboncom ramalan zodiak selasa oktober ...\n",
              "41     wartawan yanuar riezqi yovanda jakarta investo...\n",
              "110    kumpulan resep martabak terang mudah cepat mar...\n",
              "Name: content, Length: 96, dtype: object"
            ]
          },
          "metadata": {
            "tags": []
          },
          "execution_count": 86
        }
      ]
    },
    {
      "cell_type": "code",
      "metadata": {
        "id": "applied-equity",
        "colab": {
          "base_uri": "https://localhost:8080/"
        },
        "outputId": "f9dc38ea-14b2-4119-c888-3fbc53b84622"
      },
      "source": [
        "y_train"
      ],
      "id": "applied-equity",
      "execution_count": null,
      "outputs": [
        {
          "output_type": "execute_result",
          "data": {
            "text/plain": [
              "48        bisnis\n",
              "46        bisnis\n",
              "21         sport\n",
              "38         sport\n",
              "35         sport\n",
              "         ...    \n",
              "112    lifestyle\n",
              "26         sport\n",
              "99     lifestyle\n",
              "41        bisnis\n",
              "110    lifestyle\n",
              "Name: label, Length: 96, dtype: object"
            ]
          },
          "metadata": {
            "tags": []
          },
          "execution_count": 87
        }
      ]
    },
    {
      "cell_type": "code",
      "metadata": {
        "id": "partial-unknown"
      },
      "source": [
        "y_train = y_train.map({'bisnis':0, 'sport':1, 'lifestyle':2})"
      ],
      "id": "partial-unknown",
      "execution_count": null,
      "outputs": []
    },
    {
      "cell_type": "code",
      "metadata": {
        "id": "colonial-grant"
      },
      "source": [
        "y_test = y_test.map({'bisnis':0, 'sport':1, 'lifestyle':2})"
      ],
      "id": "colonial-grant",
      "execution_count": null,
      "outputs": []
    },
    {
      "cell_type": "markdown",
      "metadata": {
        "id": "proved-treatment"
      },
      "source": [
        "# Training dengan Logistic Regression"
      ],
      "id": "proved-treatment"
    },
    {
      "cell_type": "code",
      "metadata": {
        "id": "bacterial-sacramento"
      },
      "source": [
        "from sklearn.linear_model import LogisticRegression\n",
        "from sklearn.model_selection import RandomizedSearchCV\n",
        "from sklearn.pipeline import Pipeline\n",
        "import numpy as np\n",
        "# from jcopml.tuning import random_search_params as rsp\n",
        "\n",
        "from sklearn.feature_extraction.text import TfidfVectorizer"
      ],
      "id": "bacterial-sacramento",
      "execution_count": null,
      "outputs": []
    },
    {
      "cell_type": "code",
      "metadata": {
        "id": "hydraulic-mandate",
        "colab": {
          "base_uri": "https://localhost:8080/"
        },
        "outputId": "fe86cfa5-24c1-469e-ff34-8266766e8ba5"
      },
      "source": [
        "pipeline = Pipeline([\n",
        "    ('prep', TfidfVectorizer()), \n",
        "    ('algo', LogisticRegression(multi_class='multinomial',solver='lbfgs', n_jobs=-1, random_state=42))\n",
        "])\n",
        "\n",
        "logreg_params = {\n",
        "    'algo__fit_intercept': [True, False]\n",
        "  \n",
        "}\n",
        "\n",
        "model = RandomizedSearchCV(pipeline, logreg_params, cv=3, n_iter=50, n_jobs=-1, verbose=1) # Default scoring= 'Accuracy'\n",
        "model.fit(X_train, y_train) # training\n",
        "\n",
        "print(model.best_params_)\n",
        "print(model.score(X_train, y_train), model.best_score_, model.score(X_test, y_test))"
      ],
      "id": "hydraulic-mandate",
      "execution_count": null,
      "outputs": [
        {
          "output_type": "stream",
          "text": [
            "Fitting 3 folds for each of 2 candidates, totalling 6 fits\n"
          ],
          "name": "stdout"
        },
        {
          "output_type": "stream",
          "text": [
            "/usr/local/lib/python3.7/dist-packages/sklearn/model_selection/_search.py:281: UserWarning: The total space of parameters 2 is smaller than n_iter=50. Running 2 iterations. For exhaustive searches, use GridSearchCV.\n",
            "  % (grid_size, self.n_iter, grid_size), UserWarning)\n",
            "[Parallel(n_jobs=-1)]: Using backend LokyBackend with 2 concurrent workers.\n"
          ],
          "name": "stderr"
        },
        {
          "output_type": "stream",
          "text": [
            "{'algo__fit_intercept': False}\n",
            "1.0 0.9375 0.9166666666666666\n"
          ],
          "name": "stdout"
        },
        {
          "output_type": "stream",
          "text": [
            "[Parallel(n_jobs=-1)]: Done   6 out of   6 | elapsed:    1.7s finished\n"
          ],
          "name": "stderr"
        }
      ]
    },
    {
      "cell_type": "code",
      "metadata": {
        "id": "supposed-boost"
      },
      "source": [
        "# print(classification_report(y_test2,predicted_lr2))\n",
        "\n",
        "logit_tuned_pred = model.predict(X_test)\n",
        "logit_tuned_proba = model.predict_proba(X_test)"
      ],
      "id": "supposed-boost",
      "execution_count": null,
      "outputs": []
    },
    {
      "cell_type": "code",
      "metadata": {
        "colab": {
          "base_uri": "https://localhost:8080/"
        },
        "id": "tG9YI8-aGd1V",
        "outputId": "33d5d1e8-9bfb-4317-820f-ea0428e13236"
      },
      "source": [
        "logit_tuned_pred"
      ],
      "id": "tG9YI8-aGd1V",
      "execution_count": null,
      "outputs": [
        {
          "output_type": "execute_result",
          "data": {
            "text/plain": [
              "array([1, 2, 1, 2, 0, 1, 0, 1, 0, 2, 2, 0, 0, 1, 2, 1, 0, 0, 1, 1, 2, 0,\n",
              "       0, 0])"
            ]
          },
          "metadata": {
            "tags": []
          },
          "execution_count": 93
        }
      ]
    },
    {
      "cell_type": "code",
      "metadata": {
        "id": "better-replica",
        "colab": {
          "base_uri": "https://localhost:8080/"
        },
        "outputId": "3aebdc53-c1ec-4f40-bc73-d83365eab248"
      },
      "source": [
        "print(classification_report(y_test,logit_tuned_pred))"
      ],
      "id": "better-replica",
      "execution_count": null,
      "outputs": [
        {
          "output_type": "stream",
          "text": [
            "              precision    recall  f1-score   support\n",
            "\n",
            "           0       0.80      1.00      0.89         8\n",
            "           1       1.00      1.00      1.00         8\n",
            "           2       1.00      0.75      0.86         8\n",
            "\n",
            "    accuracy                           0.92        24\n",
            "   macro avg       0.93      0.92      0.92        24\n",
            "weighted avg       0.93      0.92      0.92        24\n",
            "\n"
          ],
          "name": "stdout"
        }
      ]
    },
    {
      "cell_type": "code",
      "metadata": {
        "id": "objective-semester"
      },
      "source": [
        "from sklearn.metrics import confusion_matrix, plot_confusion_matrix"
      ],
      "id": "objective-semester",
      "execution_count": null,
      "outputs": []
    },
    {
      "cell_type": "code",
      "metadata": {
        "id": "minimal-impression",
        "colab": {
          "base_uri": "https://localhost:8080/"
        },
        "outputId": "3be10152-379c-45a9-8fe8-a62984407329"
      },
      "source": [
        "confusion_matrix(logit_tuned_pred, y_test)"
      ],
      "id": "minimal-impression",
      "execution_count": null,
      "outputs": [
        {
          "output_type": "execute_result",
          "data": {
            "text/plain": [
              "array([[8, 0, 2],\n",
              "       [0, 8, 0],\n",
              "       [0, 0, 6]])"
            ]
          },
          "metadata": {
            "tags": []
          },
          "execution_count": 96
        }
      ]
    },
    {
      "cell_type": "code",
      "metadata": {
        "id": "close-liechtenstein",
        "colab": {
          "base_uri": "https://localhost:8080/",
          "height": 301
        },
        "outputId": "21372052-57d4-4602-e758-a69aec99589a"
      },
      "source": [
        "plot_confusion_matrix(model , X_test, y_test)"
      ],
      "id": "close-liechtenstein",
      "execution_count": null,
      "outputs": [
        {
          "output_type": "execute_result",
          "data": {
            "text/plain": [
              "<sklearn.metrics._plot.confusion_matrix.ConfusionMatrixDisplay at 0x7fe9849b0e10>"
            ]
          },
          "metadata": {
            "tags": []
          },
          "execution_count": 97
        },
        {
          "output_type": "display_data",
          "data": {
            "image/png": "[encoded data removed]",
            "text/plain": [
              "<Figure size 432x288 with 2 Axes>"
            ]
          },
          "metadata": {
            "tags": [],
            "needs_background": "light"
          }
        }
      ]
    },
    {
      "cell_type": "markdown",
      "metadata": {
        "id": "imposed-gregory"
      },
      "source": [
        "# -------------------------------------------------------------------------"
      ],
      "id": "imposed-gregory"
    },
    {
      "cell_type": "markdown",
      "metadata": {
        "id": "prime-scratch"
      },
      "source": [
        "# Algoritma Kedua"
      ],
      "id": "prime-scratch"
    },
    {
      "cell_type": "markdown",
      "metadata": {
        "id": "d7aTz5sfeeS-"
      },
      "source": [
        "# Load Dataset yang digunakan"
      ],
      "id": "d7aTz5sfeeS-"
    },
    {
      "cell_type": "code",
      "metadata": {
        "id": "o0E_V1tXedHd"
      },
      "source": [
        ""
      ],
      "id": "o0E_V1tXedHd",
      "execution_count": null,
      "outputs": []
    },
    {
      "cell_type": "code",
      "metadata": {
        "id": "conventional-plumbing"
      },
      "source": [
        "sport = pd.read_csv(sport_path)\n",
        "bisnis = pd.read_csv(bisnis_path)\n",
        "life_style = pd.read_csv(lifestyle_path)"
      ],
      "id": "conventional-plumbing",
      "execution_count": null,
      "outputs": []
    },
    {
      "cell_type": "code",
      "metadata": {
        "id": "sticky-genre"
      },
      "source": [
        "sport = sport[['content']]\n",
        "bisnis = bisnis[['content']]\n",
        "life_style = life_style[['content']]"
      ],
      "id": "sticky-genre",
      "execution_count": null,
      "outputs": []
    },
    {
      "cell_type": "code",
      "metadata": {
        "id": "threaded-state"
      },
      "source": [
        "sport['label'] = 'sport'\n",
        "bisnis['label'] = 'bisnis'\n",
        "life_style['label'] = 'lifestyle'"
      ],
      "id": "threaded-state",
      "execution_count": null,
      "outputs": []
    },
    {
      "cell_type": "code",
      "metadata": {
        "id": "qualified-corrections"
      },
      "source": [
        "df = sport.append(bisnis)"
      ],
      "id": "qualified-corrections",
      "execution_count": null,
      "outputs": []
    },
    {
      "cell_type": "code",
      "metadata": {
        "id": "lucky-asset"
      },
      "source": [
        "df1 = df.append(life_style)"
      ],
      "id": "lucky-asset",
      "execution_count": null,
      "outputs": []
    },
    {
      "cell_type": "code",
      "metadata": {
        "id": "agricultural-convenience"
      },
      "source": [
        "df1.reset_index(inplace=True)\n",
        "df1 = df1[['content', 'label']]"
      ],
      "id": "agricultural-convenience",
      "execution_count": null,
      "outputs": []
    },
    {
      "cell_type": "code",
      "metadata": {
        "colab": {
          "base_uri": "https://localhost:8080/",
          "height": 423
        },
        "id": "L4jnhaYfKrex",
        "outputId": "13ad1681-35a4-413e-93d6-0c3c9a4aeb05"
      },
      "source": [
        "df1"
      ],
      "id": "L4jnhaYfKrex",
      "execution_count": null,
      "outputs": [
        {
          "output_type": "execute_result",
          "data": {
            "text/html": [
              "<div>\n",
              "<style scoped>\n",
              "    .dataframe tbody tr th:only-of-type {\n",
              "        vertical-align: middle;\n",
              "    }\n",
              "\n",
              "    .dataframe tbody tr th {\n",
              "        vertical-align: top;\n",
              "    }\n",
              "\n",
              "    .dataframe thead th {\n",
              "        text-align: right;\n",
              "    }\n",
              "</style>\n",
              "<table border=\"1\" class=\"dataframe\">\n",
              "  <thead>\n",
              "    <tr style=\"text-align: right;\">\n",
              "      <th></th>\n",
              "      <th>content</th>\n",
              "      <th>label</th>\n",
              "    </tr>\n",
              "  </thead>\n",
              "  <tbody>\n",
              "    <tr>\n",
              "      <th>0</th>\n",
              "      <td>b'Laporan Wartawan Tribunnews.com, Abdul Majid...</td>\n",
              "      <td>sport</td>\n",
              "    </tr>\n",
              "    <tr>\n",
              "      <th>1</th>\n",
              "      <td>b'TRIBUNNEWS.COM - Jadwal siaran langsung Moto...</td>\n",
              "      <td>sport</td>\n",
              "    </tr>\n",
              "    <tr>\n",
              "      <th>2</th>\n",
              "      <td>b'TRIBUNNEWS.COM - Live streaming Trans7 MotoG...</td>\n",
              "      <td>sport</td>\n",
              "    </tr>\n",
              "    <tr>\n",
              "      <th>3</th>\n",
              "      <td>b'TRIBUNNEWS.COM - Muhammad Ali secara mengeju...</td>\n",
              "      <td>sport</td>\n",
              "    </tr>\n",
              "    <tr>\n",
              "      <th>4</th>\n",
              "      <td>b'TRIBUNNEWS.COM - Live streaming Trans7 MotoG...</td>\n",
              "      <td>sport</td>\n",
              "    </tr>\n",
              "    <tr>\n",
              "      <th>...</th>\n",
              "      <td>...</td>\n",
              "      <td>...</td>\n",
              "    </tr>\n",
              "    <tr>\n",
              "      <th>115</th>\n",
              "      <td>b'TRIBUNNEWS.COM -\\xc2\\xa0Kombinasi es buah de...</td>\n",
              "      <td>lifestyle</td>\n",
              "    </tr>\n",
              "    <tr>\n",
              "      <th>116</th>\n",
              "      <td>b'TRIBUNNEWS.COM - Kulit tangan kusam dan biki...</td>\n",
              "      <td>lifestyle</td>\n",
              "    </tr>\n",
              "    <tr>\n",
              "      <th>117</th>\n",
              "      <td>b'TRIBUNNEWS.COM -\\xc2\\xa0Pasti semua setuju j...</td>\n",
              "      <td>lifestyle</td>\n",
              "    </tr>\n",
              "    <tr>\n",
              "      <th>118</th>\n",
              "      <td>b'TRIBUNNEWS.COM - Berikut 30 arti mimpi yang ...</td>\n",
              "      <td>lifestyle</td>\n",
              "    </tr>\n",
              "    <tr>\n",
              "      <th>119</th>\n",
              "      <td>b'TRIBUNNEWS.COM -\\xc2\\xa0Siapa yang suka deng...</td>\n",
              "      <td>lifestyle</td>\n",
              "    </tr>\n",
              "  </tbody>\n",
              "</table>\n",
              "<p>120 rows × 2 columns</p>\n",
              "</div>"
            ],
            "text/plain": [
              "                                               content      label\n",
              "0    b'Laporan Wartawan Tribunnews.com, Abdul Majid...      sport\n",
              "1    b'TRIBUNNEWS.COM - Jadwal siaran langsung Moto...      sport\n",
              "2    b'TRIBUNNEWS.COM - Live streaming Trans7 MotoG...      sport\n",
              "3    b'TRIBUNNEWS.COM - Muhammad Ali secara mengeju...      sport\n",
              "4    b'TRIBUNNEWS.COM - Live streaming Trans7 MotoG...      sport\n",
              "..                                                 ...        ...\n",
              "115  b'TRIBUNNEWS.COM -\\xc2\\xa0Kombinasi es buah de...  lifestyle\n",
              "116  b'TRIBUNNEWS.COM - Kulit tangan kusam dan biki...  lifestyle\n",
              "117  b'TRIBUNNEWS.COM -\\xc2\\xa0Pasti semua setuju j...  lifestyle\n",
              "118  b'TRIBUNNEWS.COM - Berikut 30 arti mimpi yang ...  lifestyle\n",
              "119  b'TRIBUNNEWS.COM -\\xc2\\xa0Siapa yang suka deng...  lifestyle\n",
              "\n",
              "[120 rows x 2 columns]"
            ]
          },
          "metadata": {
            "tags": []
          },
          "execution_count": 140
        }
      ]
    },
    {
      "cell_type": "markdown",
      "metadata": {
        "id": "future-northern"
      },
      "source": [
        "# Text Preprocessing"
      ],
      "id": "future-northern"
    },
    {
      "cell_type": "code",
      "metadata": {
        "id": "atlantic-fight"
      },
      "source": [
        ""
      ],
      "id": "atlantic-fight",
      "execution_count": null,
      "outputs": []
    },
    {
      "cell_type": "code",
      "metadata": {
        "id": "partial-master"
      },
      "source": [
        ""
      ],
      "id": "partial-master",
      "execution_count": null,
      "outputs": []
    },
    {
      "cell_type": "code",
      "metadata": {
        "id": "lasting-innocent"
      },
      "source": [
        "#preprocessing function\n",
        "stop_words.append('b\\'TRIBUNNEWS.COM')\n",
        "stop_words.append('btribunnewscom')\n",
        "stop_words.append('tribunnewscom')\n",
        "def preprocessing(sentence):\n",
        "    \n",
        "    #lowecasing\n",
        "    sentence = sentence.lower()\n",
        "    \n",
        "    #remove white spaces\n",
        "    sentence = sentence.strip()\n",
        "    \n",
        "    #tokenization\n",
        "    words = word_tokenize(sentence)\n",
        "    \n",
        "    #remove punctuation/ special character\n",
        "    remove_table = str.maketrans(\"\", \"\", punctuation)\n",
        "    words = [x.translate(remove_table) for x in words]\n",
        "    \n",
        "    #remove nonalphanumeric <=3 chars\n",
        "    words = [x for x in words if x.isalnum() and len(x) > 3]\n",
        "    \n",
        "    ######\n",
        "    cek = []\n",
        "    for i in words:\n",
        "        if i[0] != 'x':\n",
        "            cek.append(i)\n",
        "    \n",
        "    ####\n",
        "#     for k in cek:\n",
        "    char_list = ['xc2xa0', 'blaporan']\n",
        "    res = [ele for ele in cek if all(ch not in ele for ch in char_list)]\n",
        "\n",
        "    \n",
        "    #remove stopwords\n",
        "    words = [x for x in res if x not in stop_words]\n",
        "    #rejoining the words\n",
        "    sentence = \" \".join(words)\n",
        "    \n",
        "    return sentence"
      ],
      "id": "lasting-innocent",
      "execution_count": null,
      "outputs": []
    },
    {
      "cell_type": "code",
      "metadata": {
        "id": "analyzed-reynolds"
      },
      "source": [
        "df1['content'] = [preprocessing(stc) for stc in df1['content']]"
      ],
      "id": "analyzed-reynolds",
      "execution_count": null,
      "outputs": []
    },
    {
      "cell_type": "code",
      "metadata": {
        "id": "broke-spectacular",
        "colab": {
          "base_uri": "https://localhost:8080/",
          "height": 423
        },
        "outputId": "5d78f9a7-6306-407b-bf2f-302a58fc4f7c"
      },
      "source": [
        "df1"
      ],
      "id": "broke-spectacular",
      "execution_count": null,
      "outputs": [
        {
          "output_type": "execute_result",
          "data": {
            "text/html": [
              "<div>\n",
              "<style scoped>\n",
              "    .dataframe tbody tr th:only-of-type {\n",
              "        vertical-align: middle;\n",
              "    }\n",
              "\n",
              "    .dataframe tbody tr th {\n",
              "        vertical-align: top;\n",
              "    }\n",
              "\n",
              "    .dataframe thead th {\n",
              "        text-align: right;\n",
              "    }\n",
              "</style>\n",
              "<table border=\"1\" class=\"dataframe\">\n",
              "  <thead>\n",
              "    <tr style=\"text-align: right;\">\n",
              "      <th></th>\n",
              "      <th>content</th>\n",
              "      <th>label</th>\n",
              "    </tr>\n",
              "  </thead>\n",
              "  <tbody>\n",
              "    <tr>\n",
              "      <th>0</th>\n",
              "      <td>wartawan abdul majid jakarta menteri pemuda ol...</td>\n",
              "      <td>sport</td>\n",
              "    </tr>\n",
              "    <tr>\n",
              "      <th>1</th>\n",
              "      <td>jadwal siaran langsung motogp prancis 2020 sir...</td>\n",
              "      <td>sport</td>\n",
              "    </tr>\n",
              "    <tr>\n",
              "      <th>2</th>\n",
              "      <td>live streaming trans7 motogp prancis 2020 sirk...</td>\n",
              "      <td>sport</td>\n",
              "    </tr>\n",
              "    <tr>\n",
              "      <th>3</th>\n",
              "      <td>muhammad mengejutkan tertinggi daftar petinju ...</td>\n",
              "      <td>sport</td>\n",
              "    </tr>\n",
              "    <tr>\n",
              "      <th>4</th>\n",
              "      <td>live streaming trans7 motogp jelang prancis 20...</td>\n",
              "      <td>sport</td>\n",
              "    </tr>\n",
              "    <tr>\n",
              "      <th>...</th>\n",
              "      <td>...</td>\n",
              "      <td>...</td>\n",
              "    </tr>\n",
              "    <tr>\n",
              "      <th>115</th>\n",
              "      <td>buah kelapa bikin ketagihan beli coba rumah bu...</td>\n",
              "      <td>lifestyle</td>\n",
              "    </tr>\n",
              "    <tr>\n",
              "      <th>116</th>\n",
              "      <td>kulit tangan kusam bikin percaya khawatir coba...</td>\n",
              "      <td>lifestyle</td>\n",
              "    </tr>\n",
              "    <tr>\n",
              "      <th>117</th>\n",
              "      <td>setuju bayam salah sayuran favorit keluarga ba...</td>\n",
              "      <td>lifestyle</td>\n",
              "    </tr>\n",
              "    <tr>\n",
              "      <th>118</th>\n",
              "      <td>arti mimpi berhubungan gaib orang merasakan mi...</td>\n",
              "      <td>lifestyle</td>\n",
              "    </tr>\n",
              "    <tr>\n",
              "      <th>119</th>\n",
              "      <td>suka bakwan setuju bakwan camilan favorit kelu...</td>\n",
              "      <td>lifestyle</td>\n",
              "    </tr>\n",
              "  </tbody>\n",
              "</table>\n",
              "<p>120 rows × 2 columns</p>\n",
              "</div>"
            ],
            "text/plain": [
              "                                               content      label\n",
              "0    wartawan abdul majid jakarta menteri pemuda ol...      sport\n",
              "1    jadwal siaran langsung motogp prancis 2020 sir...      sport\n",
              "2    live streaming trans7 motogp prancis 2020 sirk...      sport\n",
              "3    muhammad mengejutkan tertinggi daftar petinju ...      sport\n",
              "4    live streaming trans7 motogp jelang prancis 20...      sport\n",
              "..                                                 ...        ...\n",
              "115  buah kelapa bikin ketagihan beli coba rumah bu...  lifestyle\n",
              "116  kulit tangan kusam bikin percaya khawatir coba...  lifestyle\n",
              "117  setuju bayam salah sayuran favorit keluarga ba...  lifestyle\n",
              "118  arti mimpi berhubungan gaib orang merasakan mi...  lifestyle\n",
              "119  suka bakwan setuju bakwan camilan favorit kelu...  lifestyle\n",
              "\n",
              "[120 rows x 2 columns]"
            ]
          },
          "metadata": {
            "tags": []
          },
          "execution_count": 143
        }
      ]
    },
    {
      "cell_type": "markdown",
      "metadata": {
        "id": "tight-dining"
      },
      "source": [
        "# Data Splitting"
      ],
      "id": "tight-dining"
    },
    {
      "cell_type": "code",
      "metadata": {
        "id": "republican-navigation"
      },
      "source": [
        "X_train, X_test, y_train, y_test = train_test_split(df1['content'], df1['label'], test_size=0.25, stratify=df1['label'])"
      ],
      "id": "republican-navigation",
      "execution_count": null,
      "outputs": []
    },
    {
      "cell_type": "code",
      "metadata": {
        "id": "turned-concert",
        "colab": {
          "base_uri": "https://localhost:8080/"
        },
        "outputId": "0c33b08e-8408-425f-d80f-1be1af769023"
      },
      "source": [
        "X_train"
      ],
      "id": "turned-concert",
      "execution_count": null,
      "outputs": [
        {
          "output_type": "execute_result",
          "data": {
            "text/plain": [
              "100    wartawan sutriyanto jakarta adelle jewellery m...\n",
              "74     wartawan yanuar riezqi yovanda jakarta undangu...\n",
              "109    zodiak aries taurus gemini cancer virgo libra ...\n",
              "114    percaya poripori wajah poripori penampilan men...\n",
              "8      live onlinetrans7 motogp prancis 2020 sirkuit ...\n",
              "                             ...                        \n",
              "48     wartawan tribunnews choirul arifin jakarta peg...\n",
              "87     abon merek bradtalk main terkenalnya roti boom...\n",
              "32     ajang balapan motogp 2020 digelar pekan minggu...\n",
              "47     wartawan reynas abdila jakarta pandemi covid19...\n",
              "68     simak klaim token listrik gratis diskon oktobe...\n",
              "Name: content, Length: 90, dtype: object"
            ]
          },
          "metadata": {
            "tags": []
          },
          "execution_count": 145
        }
      ]
    },
    {
      "cell_type": "code",
      "metadata": {
        "colab": {
          "base_uri": "https://localhost:8080/"
        },
        "id": "Xk32CfrWiYR2",
        "outputId": "0dba2840-f0a7-417a-dff6-af12f65214bb"
      },
      "source": [
        "y_train"
      ],
      "id": "Xk32CfrWiYR2",
      "execution_count": null,
      "outputs": [
        {
          "output_type": "execute_result",
          "data": {
            "text/plain": [
              "100    lifestyle\n",
              "74        bisnis\n",
              "109    lifestyle\n",
              "114    lifestyle\n",
              "8          sport\n",
              "         ...    \n",
              "48        bisnis\n",
              "87     lifestyle\n",
              "32         sport\n",
              "47        bisnis\n",
              "68        bisnis\n",
              "Name: label, Length: 90, dtype: object"
            ]
          },
          "metadata": {
            "tags": []
          },
          "execution_count": 146
        }
      ]
    },
    {
      "cell_type": "markdown",
      "metadata": {
        "id": "military-poland"
      },
      "source": [
        "# Feature Extraction dengan Bag of Words"
      ],
      "id": "military-poland"
    },
    {
      "cell_type": "code",
      "metadata": {
        "id": "thrown-blood",
        "colab": {
          "base_uri": "https://localhost:8080/"
        },
        "outputId": "b6c87fa1-b4a5-4f12-ed97-0e85fcd88865"
      },
      "source": [
        "cv = CountVectorizer(lowercase = True, stop_words = stop_words,token_pattern=\"[A-Za-z]+\")\n",
        "\n",
        "X_train_vect2 = cv.fit_transform(X_train)\n",
        "X_test_vect2 = cv.transform(X_test)"
      ],
      "id": "thrown-blood",
      "execution_count": null,
      "outputs": [
        {
          "output_type": "stream",
          "text": [
            "/usr/local/lib/python3.7/dist-packages/sklearn/feature_extraction/text.py:385: UserWarning: Your stop_words may be inconsistent with your preprocessing. Tokenizing the stop words generated tokens ['b', 'baiknya', 'berkali', 'com', 'kali', 'kurangnya', 'mata', 'olah', 'sekurang', 'setidak', 'tama', 'tidaknya', 'tribunnews'] not in stop_words.\n",
            "  'stop_words.' % sorted(inconsistent))\n"
          ],
          "name": "stderr"
        }
      ]
    },
    {
      "cell_type": "code",
      "metadata": {
        "colab": {
          "base_uri": "https://localhost:8080/"
        },
        "id": "RPEbT5o2h2fC",
        "outputId": "e204419c-229a-4800-a2f9-6771c07891ca"
      },
      "source": [
        "y_train"
      ],
      "id": "RPEbT5o2h2fC",
      "execution_count": null,
      "outputs": [
        {
          "output_type": "execute_result",
          "data": {
            "text/plain": [
              "100    lifestyle\n",
              "74        bisnis\n",
              "109    lifestyle\n",
              "114    lifestyle\n",
              "8          sport\n",
              "         ...    \n",
              "48        bisnis\n",
              "87     lifestyle\n",
              "32         sport\n",
              "47        bisnis\n",
              "68        bisnis\n",
              "Name: label, Length: 90, dtype: object"
            ]
          },
          "metadata": {
            "tags": []
          },
          "execution_count": 148
        }
      ]
    },
    {
      "cell_type": "code",
      "metadata": {
        "id": "twenty-testament"
      },
      "source": [
        "y_train = y_train.map({'bisnis':0, 'sport':1, 'lifestyle':2})"
      ],
      "id": "twenty-testament",
      "execution_count": null,
      "outputs": []
    },
    {
      "cell_type": "code",
      "metadata": {
        "id": "incorporate-boundary"
      },
      "source": [
        "y_test = y_test.map({'bisnis':0, 'sport':1, 'lifestyle':2})"
      ],
      "id": "incorporate-boundary",
      "execution_count": null,
      "outputs": []
    },
    {
      "cell_type": "markdown",
      "metadata": {
        "id": "mineral-glasgow"
      },
      "source": [
        "# Training dengan SVM"
      ],
      "id": "mineral-glasgow"
    },
    {
      "cell_type": "code",
      "metadata": {
        "id": "rational-pontiac",
        "colab": {
          "base_uri": "https://localhost:8080/"
        },
        "outputId": "5a7d11cb-1af6-4466-b93f-e4da2deb87eb"
      },
      "source": [
        "#modelling with svm #training\n",
        "SVM = svm.SVC(C=1.0,kernel='linear', degree=3, gamma='auto')\n",
        "SVM.fit(X_train_vect2, y_train)"
      ],
      "id": "rational-pontiac",
      "execution_count": null,
      "outputs": [
        {
          "output_type": "execute_result",
          "data": {
            "text/plain": [
              "SVC(C=1.0, break_ties=False, cache_size=200, class_weight=None, coef0=0.0,\n",
              "    decision_function_shape='ovr', degree=3, gamma='auto', kernel='linear',\n",
              "    max_iter=-1, probability=False, random_state=None, shrinking=True,\n",
              "    tol=0.001, verbose=False)"
            ]
          },
          "metadata": {
            "tags": []
          },
          "execution_count": 151
        }
      ]
    },
    {
      "cell_type": "code",
      "metadata": {
        "id": "careful-opportunity"
      },
      "source": [
        "predicted2 = SVM.predict(X_test_vect2)"
      ],
      "id": "careful-opportunity",
      "execution_count": null,
      "outputs": []
    },
    {
      "cell_type": "code",
      "metadata": {
        "id": "LJ6n9UvHCHwd"
      },
      "source": [
        ""
      ],
      "id": "LJ6n9UvHCHwd",
      "execution_count": null,
      "outputs": []
    },
    {
      "cell_type": "code",
      "metadata": {
        "colab": {
          "base_uri": "https://localhost:8080/"
        },
        "id": "KymPJaIQCD0Z",
        "outputId": "68393504-01dc-4d1c-c5dd-1e7cab63dd23"
      },
      "source": [
        "predicted2"
      ],
      "id": "KymPJaIQCD0Z",
      "execution_count": null,
      "outputs": [
        {
          "output_type": "execute_result",
          "data": {
            "text/plain": [
              "array([2, 1, 1, 0, 0, 1, 2, 0, 2, 2, 0, 1, 1, 0, 0, 2, 2, 1, 2, 1, 2, 0,\n",
              "       2, 2, 2, 0, 1, 0, 2, 1])"
            ]
          },
          "metadata": {
            "tags": []
          },
          "execution_count": 153
        }
      ]
    },
    {
      "cell_type": "code",
      "metadata": {
        "id": "hearing-annual",
        "colab": {
          "base_uri": "https://localhost:8080/"
        },
        "outputId": "d5a5f308-8a95-42ba-93bc-dfdc285a6f80"
      },
      "source": [
        "accuracy_score(y_test,predicted2 )"
      ],
      "id": "hearing-annual",
      "execution_count": null,
      "outputs": [
        {
          "output_type": "execute_result",
          "data": {
            "text/plain": [
              "0.9333333333333333"
            ]
          },
          "metadata": {
            "tags": []
          },
          "execution_count": 154
        }
      ]
    },
    {
      "cell_type": "code",
      "metadata": {
        "colab": {
          "base_uri": "https://localhost:8080/"
        },
        "id": "RG6xHRWTguhE",
        "outputId": "5be0a76b-29f9-41d2-ac95-1bc714d267c8"
      },
      "source": [
        "print(classification_report(y_test,predicted2))"
      ],
      "id": "RG6xHRWTguhE",
      "execution_count": null,
      "outputs": [
        {
          "output_type": "stream",
          "text": [
            "              precision    recall  f1-score   support\n",
            "\n",
            "           0       1.00      0.90      0.95        10\n",
            "           1       1.00      0.90      0.95        10\n",
            "           2       0.83      1.00      0.91        10\n",
            "\n",
            "    accuracy                           0.93        30\n",
            "   macro avg       0.94      0.93      0.93        30\n",
            "weighted avg       0.94      0.93      0.93        30\n",
            "\n"
          ],
          "name": "stdout"
        }
      ]
    },
    {
      "cell_type": "code",
      "metadata": {
        "id": "southwest-glory",
        "colab": {
          "base_uri": "https://localhost:8080/"
        },
        "outputId": "f8b93605-9557-4f58-da50-375887aa0592"
      },
      "source": [
        "confusion_matrix(y_test, predicted2) # 30 data test, 90 data train"
      ],
      "id": "southwest-glory",
      "execution_count": null,
      "outputs": [
        {
          "output_type": "execute_result",
          "data": {
            "text/plain": [
              "array([[ 9,  0,  1],\n",
              "       [ 0,  9,  1],\n",
              "       [ 0,  0, 10]])"
            ]
          },
          "metadata": {
            "tags": []
          },
          "execution_count": 156
        }
      ]
    },
    {
      "cell_type": "markdown",
      "metadata": {
        "id": "m-3a8YIpLVLc"
      },
      "source": [
        "# Predict"
      ],
      "id": "m-3a8YIpLVLc"
    },
    {
      "cell_type": "markdown",
      "metadata": {
        "id": "RFwGEq-Pmc4f"
      },
      "source": [
        "\n",
        "Sumber Berita(Tempo):https://gaya.tempo.co/read/1482219/ingin-lebih-sehat-gaya-hidup-ala-vegetarian-ini-boleh-dicoba/full&view=oka"
      ],
      "id": "RFwGEq-Pmc4f"
    },
    {
      "cell_type": "code",
      "metadata": {
        "id": "MG_ohTRwOBy4"
      },
      "source": [
        "#{'bisnis':0, 'sport':1, 'lifestyle':2}"
      ],
      "id": "MG_ohTRwOBy4",
      "execution_count": null,
      "outputs": []
    },
    {
      "cell_type": "markdown",
      "metadata": {
        "id": "tIjidQcAmRnJ"
      },
      "source": [
        "## Predict dengan Logistic Regression"
      ],
      "id": "tIjidQcAmRnJ"
    },
    {
      "cell_type": "code",
      "metadata": {
        "id": "wxqCqpJ8hyfJ"
      },
      "source": [
        "# dengan menggunkan Logistic Regression\n",
        "text =\"Melakukan diet flexitarian jangan terlalu tergesa-gesa. Meskipun Blatner merekomendasikan pemula memulai dengan dua hari tanpa daging per minggu sebelum pindah ke 3-4 hari dan akhirnya menjadi lima hari tanpa daging setiap minggu. Kunci kesuksesan adalah melakukannya perlahan dan tidak langsung mengurangi. Pertama, cobalah untuk mengubah salah satu makanan harian menjadi nabati. Kemudian, setelah beberapa waktu, beralihlah ke pola makan vegetarian satu hari dalam seminggu\"\n"
      ],
      "id": "wxqCqpJ8hyfJ",
      "execution_count": null,
      "outputs": []
    },
    {
      "cell_type": "code",
      "metadata": {
        "id": "b4Cx9f7K02GO"
      },
      "source": [
        "contoh = preprocessing(text)\n",
        "text3 = []\n",
        "text3.append(contoh)"
      ],
      "id": "b4Cx9f7K02GO",
      "execution_count": null,
      "outputs": []
    },
    {
      "cell_type": "code",
      "metadata": {
        "colab": {
          "base_uri": "https://localhost:8080/"
        },
        "id": "ndt304hV1ho_",
        "outputId": "c26b40db-8cd2-4def-90c6-7c95317193c0"
      },
      "source": [
        "text3"
      ],
      "id": "ndt304hV1ho_",
      "execution_count": null,
      "outputs": [
        {
          "output_type": "execute_result",
          "data": {
            "text/plain": [
              "['diet flexitarian tergesagesa blatner merekomendasikan pemula daging minggu pindah daging minggu kunci kesuksesan melakukannya perlahan langsung mengurangi cobalah mengubah salah makanan harian nabati beralihlah pola makan vegetarian seminggu']"
            ]
          },
          "metadata": {
            "tags": []
          },
          "execution_count": 212
        }
      ]
    },
    {
      "cell_type": "code",
      "metadata": {
        "colab": {
          "base_uri": "https://localhost:8080/"
        },
        "id": "4sMftvyH0zo4",
        "outputId": "857fae00-cf34-4765-a9a4-e6ac73df78ef"
      },
      "source": [
        "hasil = model.predict(text3)\n",
        "if hasil == 0:\n",
        "    print(\"Berita tersebut masuk ke Topik 'Bisnis'\")\n",
        "elif hasil ==1:\n",
        "    print(\"Berita tersebut masuk ke Topik 'Sport'\")\n",
        "elif hasil == 2:\n",
        "    print(\"Berita tersebut masuk ke Topik 'Life Style'\")"
      ],
      "id": "4sMftvyH0zo4",
      "execution_count": null,
      "outputs": [
        {
          "output_type": "stream",
          "text": [
            "Berita tersebut masuk ke Topik 'Life Style'\n"
          ],
          "name": "stdout"
        }
      ]
    },
    {
      "cell_type": "markdown",
      "metadata": {
        "id": "H_OwZS65mm7G"
      },
      "source": [
        "## Predict dengan SVM"
      ],
      "id": "H_OwZS65mm7G"
    },
    {
      "cell_type": "code",
      "metadata": {
        "colab": {
          "base_uri": "https://localhost:8080/"
        },
        "id": "EY1e63FXNwwh",
        "outputId": "998e0108-6151-4a65-9e34-6156f6476790"
      },
      "source": [
        "coba = cv.transform(text3)\n",
        "hasil = SVM.predict(coba)\n",
        "if hasil == 0:\n",
        "    print(\"Berita tersebut masuk ke Topik 'Bisnis'\")\n",
        "elif hasil ==1:\n",
        "    print(\"Berita tersebut masuk ke Topik 'Sport'\")\n",
        "elif hasil == 2:\n",
        "    print(\"Berita tersebut masuk ke Topik 'Life Style'\")"
      ],
      "id": "EY1e63FXNwwh",
      "execution_count": null,
      "outputs": [
        {
          "output_type": "stream",
          "text": [
            "Berita tersebut masuk ke Topik 'Life Style'\n"
          ],
          "name": "stdout"
        }
      ]
    },
    {
      "cell_type": "markdown",
      "metadata": {
        "id": "4blyn-M7ksvb"
      },
      "source": [
        "# Thank You"
      ],
      "id": "4blyn-M7ksvb"
    }
  ]
}